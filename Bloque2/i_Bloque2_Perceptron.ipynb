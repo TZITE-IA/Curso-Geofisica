{
  "nbformat": 4,
  "nbformat_minor": 0,
  "metadata": {
    "kernelspec": {
      "display_name": "Python 3",
      "language": "python",
      "name": "python3"
    },
    "language_info": {
      "codemirror_mode": {
        "name": "ipython",
        "version": 3
      },
      "file_extension": ".py",
      "mimetype": "text/x-python",
      "name": "python",
      "nbconvert_exporter": "python",
      "pygments_lexer": "ipython3",
      "version": "3.7.0"
    },
    "colab": {
      "name": "i-Bloque2:Perceptron.ipynb",
      "provenance": [],
      "collapsed_sections": []
    }
  },
  "cells": [
    {
      "cell_type": "markdown",
      "metadata": {
        "ExecuteTime": {
          "end_time": "2020-02-25T17:45:29.372399Z",
          "start_time": "2020-02-25T17:45:29.369243Z"
        },
        "id": "SciySCay3Ciz"
      },
      "source": [
        "**Introducción a las redes neuronales y su aplicación en Geociencia**  by Karen Cruz in licensed under <a href=\"https://creativecommons.org/licenses/by-nc-nd/4.0?ref=chooser-v1\">Attribution-NonCommercial-NoDerivatives 4.0 International</a>\n",
        "\n",
        "# Bloque 2: Redes Neuronales Artificiales\n",
        "\n",
        "  - Perceptrón\n",
        "\n",
        "  - Funciones de Activación\n"
      ]
    },
    {
      "cell_type": "markdown",
      "metadata": {
        "id": "cu2WF1VZGoKg"
      },
      "source": [
        "> # Perceptrón"
      ]
    },
    {
      "cell_type": "markdown",
      "metadata": {
        "id": "ZTZ6Ib8EB8Z0"
      },
      "source": [
        "*Los perceptrones fueron desarrollados en las décadas de 1950 y 1960 por el científico Frank Rosenblatt, inspirado en trabajos anteriores de Warren McCulloch y Walter Pitts.*\r\n",
        "\r\n",
        "Un perceptrón toma varias entradas binarias, $x_1, x_2,. . .$, y produce una única salida binaria:\r\n",
        "\r\n",
        "<img src=\"https://drive.google.com/uc?id=1DA6xZQCE0F33PW6Nq8jFAgzU5IKJeYuT\" align = \"center\" >\r\n",
        "\r\n",
        "que las entradas y la salida sean binarias quiere decir que puede tomar solo uno de dos valores lo que se puede representar como uno o cero ,es decir, $x_1, x_2, x_3, output \\in \\{0, 1\\}$"
      ]
    },
    {
      "cell_type": "markdown",
      "metadata": {
        "id": "AK4xgBH1DRtj"
      },
      "source": [
        "En este ejemplo, el perceptrón tiene tres entradas, $x_1, x_2\r\n",
        ", x_3$, pero podría tener más o menos entradas. \r\n",
        "\r\n",
        "Rosenblatt propuso una regla simple para calcular la salida: \r\n",
        "\r\n",
        "- **Introdujo pesos, $w_1, w_2,. . .$, tantos como entradas se tengan, números reales que expresan la importancia de las respectivas entradas para la salida.** \r\n",
        "\r\n",
        "- **La salida de la neurona, 0 o 1, está determinada por si la suma ponderada $\\sum_j w_j x_j$ es menor o mayor que algún valor umbral**. \r\n",
        "\r\n",
        "- Al igual que los pesos, el umbral es un número real que es un parámetro de la neurona.\r\n",
        "\r\n",
        "\r\n",
        " En términos matemáticos:\r\n",
        "\r\n",
        "\\\r\n",
        "\r\n",
        " $output = \\left \\{ \\begin{matrix} 1 & \\mbox{si }\\sum_j w_j x_j\\ge umbral\r\n",
        "\\\\ 0 & \\mbox{si }\\sum_j w_j x_j<umbral\\end{matrix}\\right.$\r\n",
        "\r\n",
        "\\\r\n",
        "\r\n",
        "considerando que la suma del producto de los pesos $w_i$ y las entradas $x_i$ se puede representar como el producto escalar entre los vectores $\\bar{w}=(w_1, w_2, ...w_n)$ y $\\bar{x}=(x_1, x_2, ...x_n)$ y definiendo al umbral como -b, la expresión anterior se puede reescribir como sigue:\r\n",
        "\r\n",
        "\\\r\n",
        "\r\n",
        "$output = \\left \\{ \\begin{matrix} 1 & \\mbox{si }wx+b\\ge0\r\n",
        "\\\\ 0 & \\mbox{si }wx+b<0\\end{matrix}\\right.$\r\n",
        "\r\n",
        "\\\r\n",
        "\r\n",
        "**el sesgo $b$ es una medida de lo fácil que es hacer que el perceptrón se active**. Para un perceptrón con un sesgo grande, es fácil generar un 1. Pero si el sesgo es muy negativo, entonces es difícil generar un 1.\r\n",
        "\r\n",
        "\r\n",
        "Una forma de pensar en el perceptrón es que es un dispositivo que toma decisiones sopesando la evidencia. \r\n"
      ]
    },
    {
      "cell_type": "markdown",
      "metadata": {
        "id": "G4pTrGTrRLTc"
      },
      "source": [
        "**Ejemplo:**\r\n",
        "\r\n",
        " Suponga que se acerca el fin de semana y ha oído que va a haber un festival del queso en su ciudad. Te gusta el queso y estás intentando decidir si vas o no al festival. Puede tomar su decisión sopesando tres factores:\r\n",
        "\r\n",
        "1. ¿Hay buen clima?\r\n",
        "2. ¿Tu pareja quiere acompañarte?\r\n",
        "3. ¿Puedes llegar en transporte público? (No tienes coche).\r\n",
        "\r\n",
        "Podemos representar estos tres factores mediante las correspondientes variables binarias $x_1, x_2$ y $x_3$. Por ejemplo, tendríamos \r\n",
        "\r\n",
        "\\\r\n",
        "\r\n",
        "$x_1 = \\left \\{ \\begin{matrix} 1 & \\mbox{si hay buen clima}\r\n",
        "\\\\ 0 & \\mbox{si hay mal clima}\\end{matrix}\\right.$\r\n",
        "\r\n",
        "\\\r\n",
        "\r\n",
        "$x_2 = \\left \\{ \\begin{matrix} 1 & \\mbox{si tu pareja te acompaña}\r\n",
        "\\\\ 0 & \\mbox{si tu pareja no te acompaña}\\end{matrix}\\right.$\r\n",
        "\r\n",
        "\\\r\n",
        "\r\n",
        "$x_3 = \\left \\{ \\begin{matrix} 1 & \\mbox{si puedes llegar en transporte público}\r\n",
        "\\\\ 0 & \\mbox{si no puedes llegar en transporte público}\\end{matrix}\\right.$\r\n",
        "\r\n",
        "\\\r\n",
        "\r\n",
        "<img src=\"https://drive.google.com/uc?id=1-Gi-I_0emNR6GfJkXJEc5XJWfpso9J48\" align = \"center\" >\r\n",
        "\r\n",
        "Ahora, suponga que adora el queso, tanto que está feliz de ir al festival, incluso si su pareja no está interesado y es difícil llegar al festival.\r\n",
        "Pero quizás realmente detestas el mal clima y no hay forma de que vayas al festival si hace mal clima. Puede utilizar perceptrones para modelar este tipo de toma de decisiones. \r\n",
        "\r\n",
        "Una forma de hacer esto es elegir un peso $w_1 = 6$ para el clima, y $w_2 = 2$ y $w_3 = 2$ para las otras condiciones. El valor más alto de $w_1$ indica que el clima le importa mucho, mucho más que si tu pareja te acompaña, o la cercanía del transporte público. Finalmente, suponga que elige un umbral de 5 para el perceptrón. Con estas opciones, el perceptrón implementa el modelo de toma de decisiones deseado, generando 1 cuando el clima es bueno y 0 cuando el clima es malo. No importa en la salida si tu pareja quiere ir o si el transporte público está cerca.\r\n",
        "\r\n",
        "<img src=\"https://drive.google.com/uc?id=1jlvt8VLZyjYHD5-1BwtX0y7vzGDQHwt4\" align = \"center\" >\r\n",
        "\r\n",
        "\\\r\n",
        "\r\n",
        "| $x_1$ | $x_2$ | $x_3$ | wx+b | output |\r\n",
        "| --- | --- | --- | --- | --- |\r\n",
        "| 1 | 1 | 1 | 1(6)+1(2)+1(2)-5=5>0 | 1 |\r\n",
        "| 0 | 1 | 1 | 0(6)+1(2)+1(2)-5=-1<0 | 0 |\r\n",
        "\r\n",
        "\\\r\n",
        "\r\n"
      ]
    },
    {
      "cell_type": "code",
      "metadata": {
        "id": "rg-JmDJD5Y20"
      },
      "source": [
        "import numpy as np"
      ],
      "execution_count": null,
      "outputs": []
    },
    {
      "cell_type": "code",
      "metadata": {
        "id": "b0gbjBGN5Ypl"
      },
      "source": [
        "def perceptron(x1, x2, x3):\r\n",
        "  '''\r\n",
        "  Calcula la salida de un perceptron con 3 entradas'''\r\n",
        "\r\n",
        "  umbral = 5\r\n",
        "  w1=6; w2=2; w3=2\r\n",
        "  b = -umbral\r\n",
        "\r\n",
        "  x=np.array([x1, x2, x3, 1])\r\n",
        "  w=np.array([w1, w2, w3, b])\r\n",
        "\r\n",
        "  output = np.dot(x,w)\r\n",
        "\r\n",
        "  if output>=0:\r\n",
        "    return 1\r\n",
        "  else:\r\n",
        "    return 0"
      ],
      "execution_count": null,
      "outputs": []
    },
    {
      "cell_type": "code",
      "metadata": {
        "colab": {
          "base_uri": "https://localhost:8080/"
        },
        "id": "A1UYI0br2wrt",
        "outputId": "1adc4a82-b2f7-4b2d-c6b7-c964ec581ce1"
      },
      "source": [
        "x1 = 0\r\n",
        "x2 = 1\r\n",
        "x3 = 1\r\n",
        "\r\n",
        "perceptron(x1, x2, x3)"
      ],
      "execution_count": null,
      "outputs": [
        {
          "output_type": "execute_result",
          "data": {
            "text/plain": [
              "0"
            ]
          },
          "metadata": {
            "tags": []
          },
          "execution_count": 11
        }
      ]
    },
    {
      "cell_type": "markdown",
      "metadata": {
        "id": "iBn4b5x42u_X"
      },
      "source": [
        "**Variando los pesos y el umbral, podemos obtener diferentes modelos de toma de decisiones.**\r\n",
        "\r\n",
        " Por ejemplo, supongamos que en su lugar elegimos un umbral de 3. Entonces el perceptrón decidiría que debes ir al festival siempre que haga buen tiempo o cuando el festival esté cerca del transporte público y tu pareja esté dispuesto a acompañarte. En otras palabras, sería un modelo diferente de toma de decisiones. \r\n",
        " \r\n",
        " *Bajar el umbral significa que estás más dispuesto a ir al festival.* \r\n",
        " \r\n",
        " ¡Obviamente, el perceptrón no es un modelo completo de toma de decisiones humana! Pero lo que ilustra el ejemplo es cómo un perceptrón puede sopesar diferentes tipos de evidencia para tomar decisiones. Y debería parecer plausible que una compleja red de perceptrones pueda tomar decisiones bastante sutiles.\r\n",
        "\r\n",
        "\r\n",
        " Otra forma en que se pueden utilizar los perceptrones es para calcular las funciones lógicas elementales que solemos considerar como cálculo subyacente, funciones como AND, OR y NAND. Por ejemplo, supongamos que tenemos un perceptrón con dos entradas, cada una con un peso -2 y un sesgo general de 3. \r\n",
        "\r\n",
        "<img src=\"https://drive.google.com/uc?id=1V6g56odiRJhOwK9JlYdg16NXlYmMciF0\" align = \"center\" >\r\n",
        "\r\n",
        "\\\r\n",
        "\r\n"
      ]
    },
    {
      "cell_type": "code",
      "metadata": {
        "id": "Z0G0WPOc7gDt"
      },
      "source": [
        "def NAND(x1, x2):\r\n",
        "  '''\r\n",
        "  Calcula la salida de un perceptron NAND'''\r\n",
        "  \r\n",
        "  w1=-2; w2=-2\r\n",
        "  b = 3\r\n",
        "\r\n",
        "  x=np.array([x1, x2, 1])\r\n",
        "  w=np.array([w1, w2, b])\r\n",
        "\r\n",
        "  output = np.dot(x,w)\r\n",
        "\r\n",
        "  if output>=0:\r\n",
        "    return 1\r\n",
        "  else:\r\n",
        "    return 0"
      ],
      "execution_count": null,
      "outputs": []
    },
    {
      "cell_type": "code",
      "metadata": {
        "colab": {
          "base_uri": "https://localhost:8080/"
        },
        "id": "iDhAhQKG758l",
        "outputId": "524cc870-351d-4ce3-a19b-1e9d3f75547f"
      },
      "source": [
        "x1 = 0\r\n",
        "x2 = 0\r\n",
        "\r\n",
        "NAND(x1, x2)"
      ],
      "execution_count": null,
      "outputs": [
        {
          "output_type": "execute_result",
          "data": {
            "text/plain": [
              "1"
            ]
          },
          "metadata": {
            "tags": []
          },
          "execution_count": 16
        }
      ]
    },
    {
      "cell_type": "markdown",
      "metadata": {
        "id": "fK0XL3pn7gWc"
      },
      "source": [
        "| $x_1$ | $x_2$ | wx+b | output |\r\n",
        "| --- | --- | --- | --- |\r\n",
        "| 0 | 0 | 0(-2)+0(-2)+3=3>0 | 1 |\r\n",
        "| 0 | 1 | 0(-2)+1(-2)+3=1>0 | 1 |\r\n",
        "| 1 | 0 | 1(-2)+0(-2)+3=1>0 | 1 |\r\n",
        "| 1 | 1 | 1(-2)+1(-2)+3=-1<0 | 0 |\r\n",
        "\r\n",
        "\\\r\n",
        "\r\n",
        "Vemos que la entrada 00 produce la salida 1, las entradas 01 y 10 producen la salida 1. Pero la entrada 11 produce la salida 0. ¡Y así nuestro perceptrón implementa una puerta NAND!\r\n",
        "\r\n",
        "\r\n",
        "**Resulta que podemos idear algoritmos de aprendizaje que puedan ajustar automáticamente los pesos y sesgos de una red de neuronas artificiales.**"
      ]
    },
    {
      "cell_type": "markdown",
      "metadata": {
        "id": "ovX9chK3kxDn"
      },
      "source": [
        "> # Funciones de Activación"
      ]
    },
    {
      "cell_type": "markdown",
      "metadata": {
        "id": "QXxn4jEwk3Nd"
      },
      "source": [
        "Supongamos que tenemos una red de perceptrones que nos gustaría usar para aprender a resolver algún problema. Por ejemplo, las entradas a la red pueden ser los datos de píxeles sin procesar de una imagen escaneada y manuscrita de un dígito. Y nos gustaría que la red aprenda los pesos y los sesgos para que la salida de la red clasifique correctamente el dígito. \r\n",
        "\r\n",
        "<img src=\"https://drive.google.com/uc?id=1oIsu_oAS3Tb7I37GZ96Qy72jTUorMU-i\" align = \"center\" >\r\n",
        "\r\n",
        "\r\n",
        "Para ver cómo podría funcionar el aprendizaje, suponga que hacemos un pequeño cambio en algún peso (o sesgo) en la red: $w+\\Delta w$. Lo que nos gustaría es que este pequeño cambio de ponderación provoque solo un pequeño cambio correspondiente en la salida de la red: $output+\\Delta output$. \r\n",
        "\r\n",
        "\r\n",
        "Si fuera cierto que un pequeño cambio en un peso (o sesgo) causa solo un pequeño cambio en la salida, entonces podríamos usar este hecho para modificar los pesos y sesgos para que nuestra red se comporte más de la manera que queremos. Por ejemplo, supongamos que la red clasifica erróneamente una imagen como un \"8\" cuando debería ser un \"9\". Podríamos averiguar cómo hacer un pequeño cambio en los pesos y sesgos para que la red se acerque un poco más a clasificar la imagen como un “9”.\r\n",
        "\r\n",
        "**Y luego repetimos esto, cambiando los pesos y los sesgos una y otra vez para producir un resultado cada vez mejor. La red estaría aprendiendo.**\r\n",
        "\r\n",
        "El problema es que *esto no es lo que sucede cuando nuestra red contiene perceptrones*. De hecho, un pequeño cambio en los pesos o el sesgo de cualquier perceptrón individual en la red a veces puede hacer que la salida de ese perceptrón cambie completamente, digamos de 0 a 1. Ese cambio puede hacer que el comportamiento del resto de la red cambie completamente de una manera muy complicada. Entonces, aunque su \"9\" ahora podría estar clasificado correctamente, es probable que el comportamiento de la red en todas las demás imágenes haya cambiado por completo de alguna manera difícil de controlar. Eso hace que sea difícil ver cómo modificar gradualmente los pesos y los sesgos para que la red se acerque más al comportamiento deseado. \r\n",
        "\r\n",
        "Podemos superar este problema introduciendo un nuevo tipo de neurona artificial llamada neurona sigmoidea. **Las neuronas sigmoides son similares a los perceptrones, pero modificadas de modo que pequeños cambios en sus pesos y sesgos provocan solo un pequeño cambio en su predicción**. Ese es el crucial\r\n",
        "hecho que permitirá aprender a una red de neuronas sigmoides.\r\n",
        "\r\n",
        "\r\n",
        "Las neuronas sigmoides se representan de la misma manera que a los perceptrones:\r\n",
        "\r\n",
        "<img src=\"https://drive.google.com/uc?id=1DA6xZQCE0F33PW6Nq8jFAgzU5IKJeYuT\" align = \"center\" >\r\n",
        "\r\n",
        "Al igual que un perceptrón, la neurona sigmoide tiene entradas, $x_1, x_2,. . .$. Pero en lugar de ser solo 0 o 1, estas entradas también pueden tomar cualquier valor entre 0 y 1. Por ejemplo, 0.638 es una entrada válida para una neurona sigmoidea. Al igual que un perceptrón, la neurona sigmoide tiene pesos para cada entrada, $w_1, w_2,. . .$, y un sesgo general, $b$. Pero la salida no es 0 o 1. En cambio, es $σ(wx + b)$, donde $σ$ se denomina función sigmoide y se define por:\r\n",
        "\r\n",
        "$$\\sigma(z)=\\dfrac{1}{1+e^{-z}}$$\r\n",
        "\r\n",
        "\\\r\n",
        "\r\n",
        "\r\n",
        "- Suponga que $z ≡ w · x + b$ es un número positivo grande. \r\n",
        "\r\n",
        "  - Entonces $e^{−z} ≈ 0$ y entonces $σ(z) ≈ 1$. En otras palabras, cuando $z = w · x + b$ es grande y positivo, la salida de la neurona sigmoide es aproximadamente 1, tal como lo hubiera sido para un perceptrón. \r\n",
        "\r\n",
        "\r\n",
        "- Suponga, por otro lado, que $z = w · x + b$ es muy negativo.\r\n",
        "\r\n",
        "  - Entonces $e^{−z} → ∞$, y $σ(z) ≈ 0$. Entonces, cuando $z = w · x + b$ es muy negativo, el comportamiento de una neurona sigmoide también se aproxima mucho a un perceptrón. Sólo cuando $w · x + b$ es de tamaño medio, hay mucha desviación del modelo de perceptrón.\r\n",
        "\r\n"
      ]
    },
    {
      "cell_type": "code",
      "metadata": {
        "id": "e2wnveLhk2G-"
      },
      "source": [
        "# se definen algunas de las funciones de activación más comunes\r\n",
        "\r\n",
        "def perceptron_plot(z):\r\n",
        "  \"\"\"\r\n",
        "  Calcula la función step de z\r\n",
        "  INPUT:\r\n",
        "  z: arreglo.\"\"\"\r\n",
        "  output = []\r\n",
        "  for i in z:\r\n",
        "    if i>= 0:\r\n",
        "      output.append(1)\r\n",
        "    else:\r\n",
        "      output.append(0)\r\n",
        "  return output\r\n",
        "\r\n",
        "\r\n",
        "def sigmoid(z):\r\n",
        "    \"\"\"\r\n",
        "    Calcula la función sigmoide de z\r\n",
        "    INPUT:\r\n",
        "    z -- Escalar o arreglo de cualquier tamaño.\r\n",
        "    OUTPUT:\r\n",
        "    s -- sigmoid(z)\r\n",
        "    \"\"\"\r\n",
        "    \r\n",
        "    return 1/(1+np.exp(-z))\r\n",
        "\r\n",
        "def relu(z):\r\n",
        "    \"\"\"\r\n",
        "    Calcula la función ReLU de z\r\n",
        "    INPUT:\r\n",
        "    z -- Escalar o arreglo de cualquier tamaño.\r\n",
        "    OUTPUT:\r\n",
        "    reLu(z)\r\n",
        "    \"\"\"\r\n",
        "    return np.max(0.0, z)\r\n",
        "\r\n",
        "def tanh(z):\r\n",
        "    \"\"\"\r\n",
        "    Calcula la función tanh de z\r\n",
        "    INPUT:\r\n",
        "    z -- Escalar o arreglo de cualquier tamaño.\r\n",
        "    OUTPUT:\r\n",
        "    tanh(z)\r\n",
        "    \"\"\"\r\n",
        "    return (np.tanh(z))"
      ],
      "execution_count": null,
      "outputs": []
    },
    {
      "cell_type": "code",
      "metadata": {
        "colab": {
          "base_uri": "https://localhost:8080/",
          "height": 523
        },
        "id": "CXfkxWag_0rP",
        "outputId": "11bc0597-afc3-43d0-9a7c-5e0412ec7ab9"
      },
      "source": [
        "# se grafican la funcion step (propia del perceptron) y la función sigmoide\r\n",
        "\r\n",
        "import matplotlib.pyplot as plt\r\n",
        "\r\n",
        "# datos para graficar\r\n",
        "x_ = np.arange(-10, 10.0, 0.01)\r\n",
        "y_step = perceptron_plot(x_)\r\n",
        "y_sigmoid = sigmoid(x_)\r\n",
        "\r\n",
        "#detalles de la grafica\r\n",
        "plt.figure(figsize=(13,8))\r\n",
        "plt.ylabel('Y', fontsize=16)\r\n",
        "plt.xlabel('X', fontsize=16)\r\n",
        "plt.grid(True)\r\n",
        "plt.title('funciones de activación', size=20)\r\n",
        "\r\n",
        "#Graficamos las funciones de activación\r\n",
        "plt.plot(x_, y_step, color='salmon', lw=4, label='step')\r\n",
        "plt.plot(x_, y_sigmoid, color='brown', lw=4, label='sigmoid')\r\n",
        "plt.legend();"
      ],
      "execution_count": null,
      "outputs": [
        {
          "output_type": "display_data",
          "data": {
            "image/png": "[encoded data removed]",
            "text/plain": [
              "<Figure size 936x576 with 1 Axes>"
            ]
          },
          "metadata": {
            "tags": [],
            "needs_background": "light"
          }
        }
      ]
    },
    {
      "cell_type": "markdown",
      "metadata": {
        "id": "MHJ6gpC0vU6I"
      },
      "source": [
        "La suavidad de $σ$ significa que pequeños cambios $∆w_j$ en los pesos y $∆b$ en el sesgo producirán un pequeño cambio $∆output$ en la salida de la neurona. \r\n",
        "\r\n",
        "\r\n",
        "En general se pueden tener neuronas donde la salida es $f(w · x + b)$ para alguna otra función de activación $f (·)$.\r\n",
        "\r\n"
      ]
    },
    {
      "cell_type": "markdown",
      "metadata": {
        "id": "T_vhRhuanBCL"
      },
      "source": [
        "Referencia: *Michael Nielsen*, [**Neural Networks and Deep Learning**](http://neuralnetworksanddeeplearning.com/)"
      ]
    }
  ]
}